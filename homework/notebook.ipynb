{
 "cells": [
  {
   "cell_type": "code",
   "execution_count": null,
   "id": "723426ea",
   "metadata": {},
   "outputs": [
    {
     "name": "stdout",
     "output_type": "stream",
     "text": [
      "../files/input\\file1.txt  It is essential to develop non-precious metal-based alternatives used \n",
      "../files/input\\file2.txt  Electric vehicles are gaining global popularity lately, and along with\n",
      "../files/input\\file3.txt  Global solar irradiation is an important variable that can be used to \n"
     ]
    }
   ],
   "source": [
    "# Carga de datos\n",
    "import glob\n",
    "\n",
    "\n",
    "def load_data(input_directory):\n",
    "\n",
    "    sequence = []\n",
    "    files = glob.glob(f\"{input_directory}/*\")\n",
    "    for file in files:\n",
    "        with open(file, \"rt\", encoding=\"utf-8\") as f:\n",
    "            raw_text = f.read()\n",
    "            sequence.append((file, raw_text))\n",
    "    return sequence\n",
    "\n",
    "\n",
    "sequence = load_data(input_directory=\"../files/input\")\n",
    "for file, text in sequence:\n",
    "    print(f\"{file}  {text[:70]}\")\n",
    "    \n",
    "    \n",
    "\n",
    "    \n",
    "\n"
   ]
  },
  {
   "cell_type": "code",
   "execution_count": null,
   "id": "6326fe21",
   "metadata": {},
   "outputs": [
    {
     "name": "stdout",
     "output_type": "stream",
     "text": [
      "../files/input\\file1.txt  it is essential to develop non-precious metal-based alternatives used \n",
      "../files/input\\file2.txt  electric vehicles are gaining global popularity lately, and along with\n",
      "../files/input\\file3.txt  global solar irradiation is an important variable that can be used to \n"
     ]
    }
   ],
   "source": [
    "\n",
    "# Clean text\n",
    "import re\n",
    "\n",
    "\n",
    "def clean_text(sequence):\n",
    "    cleaned_sequence = []\n",
    "    for file, text in sequence:\n",
    "        cleaned_text = re.sub(r\"\\n\", \" \", text)\n",
    "        cleaned_text = re.sub(r\"\\s+\", \" \", cleaned_text)\n",
    "        cleaned_text = cleaned_text.strip()\n",
    "        cleaned_text = cleaned_text.lower()\n",
    "        cleaned_sequence.append((file, cleaned_text))\n",
    "    return cleaned_sequence\n",
    "\n",
    "\n",
    "sequence = load_data(input_directory=\"../files/input\")\n",
    "cleaned_sequence = clean_text(sequence)\n",
    "for file, text in cleaned_sequence:\n",
    "    print(f\"{file}  {text[:70]}\")\n",
    "    \n",
    "    \n"
   ]
  },
  {
   "cell_type": "code",
   "execution_count": 7,
   "id": "4325b4ef",
   "metadata": {},
   "outputs": [
    {
     "name": "stderr",
     "output_type": "stream",
     "text": [
      "[nltk_data] Downloading package punkt_tab to\n",
      "[nltk_data]     C:\\Users\\Carlos\\AppData\\Roaming\\nltk_data...\n",
      "[nltk_data]   Package punkt_tab is already up-to-date!\n"
     ]
    },
    {
     "ename": "NameError",
     "evalue": "name 'load_data' is not defined",
     "output_type": "error",
     "traceback": [
      "\u001b[31m---------------------------------------------------------------------------\u001b[39m",
      "\u001b[31mNameError\u001b[39m                                 Traceback (most recent call last)",
      "\u001b[36mCell\u001b[39m\u001b[36m \u001b[39m\u001b[32mIn[7]\u001b[39m\u001b[32m, line 16\u001b[39m\n\u001b[32m     12\u001b[39m         tokenized_sequence.append((file, tokens))\n\u001b[32m     13\u001b[39m     \u001b[38;5;28;01mreturn\u001b[39;00m tokenized_sequence\n\u001b[32m---> \u001b[39m\u001b[32m16\u001b[39m sequence = \u001b[43mload_data\u001b[49m(input_directory=\u001b[33m\"\u001b[39m\u001b[33m../files/input\u001b[39m\u001b[33m\"\u001b[39m)\n\u001b[32m     17\u001b[39m cleaned_sequence = clean_text(sequence)\n\u001b[32m     18\u001b[39m tokenized_sequence = tokenize(cleaned_sequence)\n",
      "\u001b[31mNameError\u001b[39m: name 'load_data' is not defined"
     ]
    }
   ],
   "source": [
    "# Tokenization\n",
    "import nltk\n",
    "from nltk.tokenize import word_tokenize\n",
    "\n",
    "nltk.download(\"punkt_tab\")\n",
    "\n",
    "\n",
    "def tokenize(sequence):\n",
    "    tokenized_sequence = []\n",
    "    for file, text in sequence:\n",
    "        tokens = word_tokenize(text)\n",
    "        tokenized_sequence.append((file, tokens))\n",
    "    return tokenized_sequence\n",
    "\n",
    "\n",
    "sequence = load_data(input_directory=\"../files/input\")\n",
    "cleaned_sequence = clean_text(sequence)\n",
    "tokenized_sequence = tokenize(cleaned_sequence)\n",
    "for file, text in tokenized_sequence:\n",
    "    print(f\"{file}  {' '.join(text)[:70]}\")"
   ]
  },
  {
   "cell_type": "code",
   "execution_count": null,
   "id": "2861fd65",
   "metadata": {},
   "outputs": [],
   "source": [
    "# Remoción de datos ruidosos (Opcion A)\n",
    "def filter_tokens_a(sequence):\n",
    "    \"\"\"Esta solucion puede perder tokens que contienen caracteres no alfabeticos\"\"\"\n",
    "    filtered_sequence = []\n",
    "    for file, tokens in sequence:\n",
    "        filtered_tokens = [token for token in tokens if token.isalpha()]\n",
    "        filtered_sequence.append((file, filtered_tokens))\n",
    "    return filtered_sequence\n",
    "\n",
    "\n",
    "sequence = load_data(input_directory=\"../files/input\")\n",
    "cleaned_sequence = clean_text(sequence)\n",
    "tokenized_sequence = tokenize(cleaned_sequence)\n",
    "filtered_sequence = filter_tokens_a(tokenized_sequence)\n",
    "for file, text in filtered_sequence:\n",
    "    print(f\"{file}  {' '.join(text)[:70]}\")"
   ]
  },
  {
   "cell_type": "code",
   "execution_count": 2,
   "id": "4a6d7299",
   "metadata": {},
   "outputs": [
    {
     "ename": "NameError",
     "evalue": "name 'load_data' is not defined",
     "output_type": "error",
     "traceback": [
      "\u001b[31m---------------------------------------------------------------------------\u001b[39m",
      "\u001b[31mNameError\u001b[39m                                 Traceback (most recent call last)",
      "\u001b[36mCell\u001b[39m\u001b[36m \u001b[39m\u001b[32mIn[2]\u001b[39m\u001b[32m, line 14\u001b[39m\n\u001b[32m     10\u001b[39m         filtered_sequence.append((file, filtered_tokens))\n\u001b[32m     11\u001b[39m     \u001b[38;5;28;01mreturn\u001b[39;00m filtered_sequence\n\u001b[32m---> \u001b[39m\u001b[32m14\u001b[39m sequence = \u001b[43mload_data\u001b[49m(input_directory=\u001b[33m\"\u001b[39m\u001b[33m../files/input\u001b[39m\u001b[33m\"\u001b[39m)\n\u001b[32m     15\u001b[39m cleaned_sequence = clean_text(sequence)\n\u001b[32m     16\u001b[39m tokenized_sequence = tokenize(cleaned_sequence)\n",
      "\u001b[31mNameError\u001b[39m: name 'load_data' is not defined"
     ]
    }
   ],
   "source": [
    "# Remoción de datos ruidosos (Opcion B)\n",
    "def filter_tokens_b(sequence):\n",
    "    \"\"\"Esta solucion puede perder tokens que contienen caracteres no alfabeticos\"\"\"\n",
    "    filtered_sequence = []\n",
    "    for file, tokens in sequence:\n",
    "        filtered_tokens = [re.sub(r\"[^a-zA-Z\\s]\", \" \", token) for token in tokens]\n",
    "        filtered_tokens = [re.sub(r\"\\s+\", \" \", token) for token in filtered_tokens]\n",
    "        filtered_tokens = [token.strip() for token in filtered_tokens]\n",
    "        filtered_tokens = [token for token in filtered_tokens if token != \"\"]\n",
    "        filtered_sequence.append((file, filtered_tokens))\n",
    "    return filtered_sequence\n",
    "\n",
    "\n",
    "sequence = load_data(input_directory=\"../files/input\")\n",
    "cleaned_sequence = clean_text(sequence)\n",
    "tokenized_sequence = tokenize(cleaned_sequence)\n",
    "filtered_sequence = filter_tokens_b(tokenized_sequence)\n",
    "for file, text in filtered_sequence:\n",
    "    print(f\"{file}  {' '.join(text)[:70]}\")\n",
    "    # %%\n",
    "# Remove the stopwords\n",
    "nltk.download(\"stopwords\")\n",
    "\n",
    "\n",
    "def remove_stopwords(sequence):\n",
    "    stop_words = set(nltk.corpus.stopwords.words(\"english\"))\n",
    "    filtered_sequence = []\n",
    "    for file, tokens in sequence:\n",
    "        filtered_tokens = [token for token in tokens if token not in stop_words]\n",
    "        filtered_sequence.append((file, filtered_tokens))\n",
    "    return filtered_sequence\n",
    "\n",
    "\n",
    "sequence = load_data(input_directory=\"../files/input\")\n",
    "cleaned_sequence = clean_text(sequence)\n",
    "tokenized_sequence = tokenize(cleaned_sequence)\n",
    "filtered_sequence = filter_tokens_b(tokenized_sequence)\n",
    "filtered_sequence = remove_stopwords(filtered_sequence)\n",
    "for file, text in filtered_sequence:\n",
    "    print(f\"{file}  {' '.join(text)[:70]}\")\n",
    "    \n",
    "    "
   ]
  },
  {
   "cell_type": "code",
   "execution_count": null,
   "id": "b7b6ed06",
   "metadata": {},
   "outputs": [],
   "source": []
  }
 ],
 "metadata": {
  "kernelspec": {
   "display_name": ".venv",
   "language": "python",
   "name": "python3"
  },
  "language_info": {
   "codemirror_mode": {
    "name": "ipython",
    "version": 3
   },
   "file_extension": ".py",
   "mimetype": "text/x-python",
   "name": "python",
   "nbconvert_exporter": "python",
   "pygments_lexer": "ipython3",
   "version": "3.12.10"
  }
 },
 "nbformat": 4,
 "nbformat_minor": 5
}
